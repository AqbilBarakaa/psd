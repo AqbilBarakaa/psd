{
 "cells": [
  {
   "cell_type": "markdown",
   "id": "0e3762c5",
   "metadata": {},
   "source": [
    "# Data Preprocessing  \n",
    "\n",
    "Prepocessing merupakan suatu proses dalam Bussiness Understanding, yang berfungsi untuk menyiapkan data agar ketika dalam proses modelling mendapatkan nilai akurasi yang maksimal, diantara prosess prepocessing yakni penghapusan outlier dan pemberian data pada kolom yang missing value.  \n",
    "\n",
    "## Deteksi Oulier Menggunakan Data Iris di Power BI  \n",
    "\n",
    "Pada Power BI, pergi ke menu Transform Data -> Transform -> Run Python Script  \n",
    "\n",
    "### Model Deteksi Outlier ABOD  \n",
    "\n",
    "Teknik ini didasarkan pada gagasan untuk mengawasi sudut yang dibentuk oleh sekumpulan tiga titik data dalam ruang fitur multivariat. Teknik outlier berbasis sudut (ABOD) bekerja cukup baik dalam ruang berdimensi tinggi.  \n",
    "\n",
    "Berikut Contoh Code Implementasi model ABOD pada data Iris:"
   ]
  },
  {
   "cell_type": "code",
   "execution_count": 8,
   "id": "6328706c",
   "metadata": {},
   "outputs": [
    {
     "data": {
      "text/html": [
       "<style type=\"text/css\">\n",
       "#T_2346b_row5_col1, #T_2346b_row11_col1 {\n",
       "  background-color: lightgreen;\n",
       "}\n",
       "</style>\n",
       "<table id=\"T_2346b\">\n",
       "  <thead>\n",
       "    <tr>\n",
       "      <th class=\"blank level0\" >&nbsp;</th>\n",
       "      <th id=\"T_2346b_level0_col0\" class=\"col_heading level0 col0\" >Description</th>\n",
       "      <th id=\"T_2346b_level0_col1\" class=\"col_heading level0 col1\" >Value</th>\n",
       "    </tr>\n",
       "  </thead>\n",
       "  <tbody>\n",
       "    <tr>\n",
       "      <th id=\"T_2346b_level0_row0\" class=\"row_heading level0 row0\" >0</th>\n",
       "      <td id=\"T_2346b_row0_col0\" class=\"data row0 col0\" >Session id</td>\n",
       "      <td id=\"T_2346b_row0_col1\" class=\"data row0 col1\" >123</td>\n",
       "    </tr>\n",
       "    <tr>\n",
       "      <th id=\"T_2346b_level0_row1\" class=\"row_heading level0 row1\" >1</th>\n",
       "      <td id=\"T_2346b_row1_col0\" class=\"data row1 col0\" >Original data shape</td>\n",
       "      <td id=\"T_2346b_row1_col1\" class=\"data row1 col1\" >(150, 6)</td>\n",
       "    </tr>\n",
       "    <tr>\n",
       "      <th id=\"T_2346b_level0_row2\" class=\"row_heading level0 row2\" >2</th>\n",
       "      <td id=\"T_2346b_row2_col0\" class=\"data row2 col0\" >Transformed data shape</td>\n",
       "      <td id=\"T_2346b_row2_col1\" class=\"data row2 col1\" >(150, 8)</td>\n",
       "    </tr>\n",
       "    <tr>\n",
       "      <th id=\"T_2346b_level0_row3\" class=\"row_heading level0 row3\" >3</th>\n",
       "      <td id=\"T_2346b_row3_col0\" class=\"data row3 col0\" >Numeric features</td>\n",
       "      <td id=\"T_2346b_row3_col1\" class=\"data row3 col1\" >5</td>\n",
       "    </tr>\n",
       "    <tr>\n",
       "      <th id=\"T_2346b_level0_row4\" class=\"row_heading level0 row4\" >4</th>\n",
       "      <td id=\"T_2346b_row4_col0\" class=\"data row4 col0\" >Categorical features</td>\n",
       "      <td id=\"T_2346b_row4_col1\" class=\"data row4 col1\" >1</td>\n",
       "    </tr>\n",
       "    <tr>\n",
       "      <th id=\"T_2346b_level0_row5\" class=\"row_heading level0 row5\" >5</th>\n",
       "      <td id=\"T_2346b_row5_col0\" class=\"data row5 col0\" >Preprocess</td>\n",
       "      <td id=\"T_2346b_row5_col1\" class=\"data row5 col1\" >True</td>\n",
       "    </tr>\n",
       "    <tr>\n",
       "      <th id=\"T_2346b_level0_row6\" class=\"row_heading level0 row6\" >6</th>\n",
       "      <td id=\"T_2346b_row6_col0\" class=\"data row6 col0\" >Imputation type</td>\n",
       "      <td id=\"T_2346b_row6_col1\" class=\"data row6 col1\" >simple</td>\n",
       "    </tr>\n",
       "    <tr>\n",
       "      <th id=\"T_2346b_level0_row7\" class=\"row_heading level0 row7\" >7</th>\n",
       "      <td id=\"T_2346b_row7_col0\" class=\"data row7 col0\" >Numeric imputation</td>\n",
       "      <td id=\"T_2346b_row7_col1\" class=\"data row7 col1\" >mean</td>\n",
       "    </tr>\n",
       "    <tr>\n",
       "      <th id=\"T_2346b_level0_row8\" class=\"row_heading level0 row8\" >8</th>\n",
       "      <td id=\"T_2346b_row8_col0\" class=\"data row8 col0\" >Categorical imputation</td>\n",
       "      <td id=\"T_2346b_row8_col1\" class=\"data row8 col1\" >mode</td>\n",
       "    </tr>\n",
       "    <tr>\n",
       "      <th id=\"T_2346b_level0_row9\" class=\"row_heading level0 row9\" >9</th>\n",
       "      <td id=\"T_2346b_row9_col0\" class=\"data row9 col0\" >Maximum one-hot encoding</td>\n",
       "      <td id=\"T_2346b_row9_col1\" class=\"data row9 col1\" >-1</td>\n",
       "    </tr>\n",
       "    <tr>\n",
       "      <th id=\"T_2346b_level0_row10\" class=\"row_heading level0 row10\" >10</th>\n",
       "      <td id=\"T_2346b_row10_col0\" class=\"data row10 col0\" >Encoding method</td>\n",
       "      <td id=\"T_2346b_row10_col1\" class=\"data row10 col1\" >None</td>\n",
       "    </tr>\n",
       "    <tr>\n",
       "      <th id=\"T_2346b_level0_row11\" class=\"row_heading level0 row11\" >11</th>\n",
       "      <td id=\"T_2346b_row11_col0\" class=\"data row11 col0\" >Normalize</td>\n",
       "      <td id=\"T_2346b_row11_col1\" class=\"data row11 col1\" >True</td>\n",
       "    </tr>\n",
       "    <tr>\n",
       "      <th id=\"T_2346b_level0_row12\" class=\"row_heading level0 row12\" >12</th>\n",
       "      <td id=\"T_2346b_row12_col0\" class=\"data row12 col0\" >Normalize method</td>\n",
       "      <td id=\"T_2346b_row12_col1\" class=\"data row12 col1\" >zscore</td>\n",
       "    </tr>\n",
       "    <tr>\n",
       "      <th id=\"T_2346b_level0_row13\" class=\"row_heading level0 row13\" >13</th>\n",
       "      <td id=\"T_2346b_row13_col0\" class=\"data row13 col0\" >CPU Jobs</td>\n",
       "      <td id=\"T_2346b_row13_col1\" class=\"data row13 col1\" >-1</td>\n",
       "    </tr>\n",
       "    <tr>\n",
       "      <th id=\"T_2346b_level0_row14\" class=\"row_heading level0 row14\" >14</th>\n",
       "      <td id=\"T_2346b_row14_col0\" class=\"data row14 col0\" >Use GPU</td>\n",
       "      <td id=\"T_2346b_row14_col1\" class=\"data row14 col1\" >False</td>\n",
       "    </tr>\n",
       "    <tr>\n",
       "      <th id=\"T_2346b_level0_row15\" class=\"row_heading level0 row15\" >15</th>\n",
       "      <td id=\"T_2346b_row15_col0\" class=\"data row15 col0\" >Log Experiment</td>\n",
       "      <td id=\"T_2346b_row15_col1\" class=\"data row15 col1\" >False</td>\n",
       "    </tr>\n",
       "    <tr>\n",
       "      <th id=\"T_2346b_level0_row16\" class=\"row_heading level0 row16\" >16</th>\n",
       "      <td id=\"T_2346b_row16_col0\" class=\"data row16 col0\" >Experiment Name</td>\n",
       "      <td id=\"T_2346b_row16_col1\" class=\"data row16 col1\" >anomaly-default-name</td>\n",
       "    </tr>\n",
       "    <tr>\n",
       "      <th id=\"T_2346b_level0_row17\" class=\"row_heading level0 row17\" >17</th>\n",
       "      <td id=\"T_2346b_row17_col0\" class=\"data row17 col0\" >USI</td>\n",
       "      <td id=\"T_2346b_row17_col1\" class=\"data row17 col1\" >3a38</td>\n",
       "    </tr>\n",
       "  </tbody>\n",
       "</table>\n"
      ],
      "text/plain": [
       "<pandas.io.formats.style.Styler at 0x2461f5e25e0>"
      ]
     },
     "metadata": {},
     "output_type": "display_data"
    },
    {
     "data": {
      "text/html": [],
      "text/plain": [
       "<IPython.core.display.HTML object>"
      ]
     },
     "metadata": {},
     "output_type": "display_data"
    },
    {
     "data": {
      "text/html": [],
      "text/plain": [
       "<IPython.core.display.HTML object>"
      ]
     },
     "metadata": {},
     "output_type": "display_data"
    },
    {
     "data": {
      "text/html": [],
      "text/plain": [
       "<IPython.core.display.HTML object>"
      ]
     },
     "metadata": {},
     "output_type": "display_data"
    },
    {
     "name": "stdout",
     "output_type": "stream",
     "text": [
      "      id            class  petallength  petalwidth  sepallength  sepalwidth  \\\n",
      "15    16      Iris-setosa          1.5         0.4          5.7         4.4   \n",
      "41    42      Iris-setosa          1.3         0.3          4.5         2.3   \n",
      "60    61  Iris-versicolor          3.5         1.0          5.0         2.0   \n",
      "85    86  Iris-versicolor          4.5         1.6          6.0         3.4   \n",
      "106  107   Iris-virginica          4.5         1.7          4.9         2.5   \n",
      "108  109   Iris-virginica          5.8         1.8          6.7         2.5   \n",
      "119  120   Iris-virginica          5.0         1.5          6.0         2.2   \n",
      "146  147   Iris-virginica          5.0         1.9          6.3         2.5   \n",
      "\n",
      "     Anomaly  Anomaly_Score  \n",
      "15         1      -0.039029  \n",
      "41         1      -0.000656  \n",
      "60         1      -0.011186  \n",
      "85         1      -0.074980  \n",
      "106        1      -0.021686  \n",
      "108        1      -0.082458  \n",
      "119        1      -0.009325  \n",
      "146        1      -0.069114  \n"
     ]
    }
   ],
   "source": [
    "import pandas as pd\n",
    "from pycaret.anomaly import *\n",
    "\n",
    "dataset = pd.read_csv(\"data_gabungan_iris.csv\")\n",
    "data = dataset.copy()\n",
    "\n",
    "abod_data = setup(data, session_id=123, normalize=True)\n",
    "abod = create_model('abod')\n",
    "abod_predictions = assign_model(abod)\n",
    "\n",
    "data_anomaly = abod_predictions[abod_predictions['Anomaly'] == 1]\n",
    "print(data_anomaly)"
   ]
  },
  {
   "cell_type": "markdown",
   "id": "24a72566",
   "metadata": {},
   "source": [
    "Penjelasan code:  \n",
    "\n",
    "- Pertama import library yang akan digunakan seperti pandas dan pycaret.\n",
    "- Load dataset menggunakan method copy().\n",
    "- Persiapkan model pycaret menggunakan fungsi setup() yang di dalamnya berisi parameter berupa data dan session_id.\n",
    "- Gunakan model ‘abod’ menggunakan fungsi create_model().\n",
    "- Setelah itu, terapkan model menggunakan fungsi assign_model().\n",
    "- Seleksi data oulier melalui pengaksesan indeks nilai kolom yang memiliki nilai = 1, sebab outlier direpresentasikan dengan nilai 1.\n",
    "- Muat data outlier pada Power BI dengan menuliskan kembali variabel yang menyimpan proses seperti ‘data_anomaly’.\n",
    "\n",
    "Hasil Pendeteksian Outlier Pada Power BI menggunakan Metode ABOD"
   ]
  },
  {
   "cell_type": "code",
   "execution_count": null,
   "id": "4d20a116",
   "metadata": {},
   "outputs": [],
   "source": [
    "import pandas as pd\n",
    "from pycaret.anomaly import *\n",
    "\n",
    "data = dataset.copy()\n",
    "abod_data = setup(data, session_id=123)\n",
    "abod = create_model('abod')\n",
    "abod_predictions = assign_model(abod)\n",
    "\n",
    "data_anomaly = abod_predictions[abod_predictions['Anomaly'] == 1]\n",
    "data_anomaly"
   ]
  },
  {
   "cell_type": "markdown",
   "id": "92eee239",
   "metadata": {},
   "source": [
    "![Screenshot](images/200138.png)  \n",
    "\n",
    "Berdasarkan tabel pada gambar tersebut, ditemukan data yang terdeksi outlier sebanyak 8 data dengan representasi nilai yakni 1.  \n",
    "\n",
    "### Model Deteksi Outlier KNN  \n",
    "\n",
    "KNN atau K-Nearest Neighbours merupakan algoritma klasifikasi berdasarkan jarak dengan cara mengukur kedekatan masing-masing data berdasarkan nilai k. KNN juga dapat digunakan untuk menedeteksi outlier dengan cara mencari rata-rata terbesar untuk mendeteksinya.  \n",
    "\n",
    "Berikut Contoh Code Implementasi model KNN pada data Iris:  "
   ]
  },
  {
   "cell_type": "code",
   "execution_count": null,
   "id": "9a92f640",
   "metadata": {},
   "outputs": [
    {
     "data": {
      "text/html": [
       "<style type=\"text/css\">\n",
       "#T_27e2e_row5_col1, #T_27e2e_row11_col1 {\n",
       "  background-color: lightgreen;\n",
       "}\n",
       "</style>\n",
       "<table id=\"T_27e2e\">\n",
       "  <thead>\n",
       "    <tr>\n",
       "      <th class=\"blank level0\" >&nbsp;</th>\n",
       "      <th id=\"T_27e2e_level0_col0\" class=\"col_heading level0 col0\" >Description</th>\n",
       "      <th id=\"T_27e2e_level0_col1\" class=\"col_heading level0 col1\" >Value</th>\n",
       "    </tr>\n",
       "  </thead>\n",
       "  <tbody>\n",
       "    <tr>\n",
       "      <th id=\"T_27e2e_level0_row0\" class=\"row_heading level0 row0\" >0</th>\n",
       "      <td id=\"T_27e2e_row0_col0\" class=\"data row0 col0\" >Session id</td>\n",
       "      <td id=\"T_27e2e_row0_col1\" class=\"data row0 col1\" >123</td>\n",
       "    </tr>\n",
       "    <tr>\n",
       "      <th id=\"T_27e2e_level0_row1\" class=\"row_heading level0 row1\" >1</th>\n",
       "      <td id=\"T_27e2e_row1_col0\" class=\"data row1 col0\" >Original data shape</td>\n",
       "      <td id=\"T_27e2e_row1_col1\" class=\"data row1 col1\" >(150, 6)</td>\n",
       "    </tr>\n",
       "    <tr>\n",
       "      <th id=\"T_27e2e_level0_row2\" class=\"row_heading level0 row2\" >2</th>\n",
       "      <td id=\"T_27e2e_row2_col0\" class=\"data row2 col0\" >Transformed data shape</td>\n",
       "      <td id=\"T_27e2e_row2_col1\" class=\"data row2 col1\" >(150, 8)</td>\n",
       "    </tr>\n",
       "    <tr>\n",
       "      <th id=\"T_27e2e_level0_row3\" class=\"row_heading level0 row3\" >3</th>\n",
       "      <td id=\"T_27e2e_row3_col0\" class=\"data row3 col0\" >Numeric features</td>\n",
       "      <td id=\"T_27e2e_row3_col1\" class=\"data row3 col1\" >5</td>\n",
       "    </tr>\n",
       "    <tr>\n",
       "      <th id=\"T_27e2e_level0_row4\" class=\"row_heading level0 row4\" >4</th>\n",
       "      <td id=\"T_27e2e_row4_col0\" class=\"data row4 col0\" >Categorical features</td>\n",
       "      <td id=\"T_27e2e_row4_col1\" class=\"data row4 col1\" >1</td>\n",
       "    </tr>\n",
       "    <tr>\n",
       "      <th id=\"T_27e2e_level0_row5\" class=\"row_heading level0 row5\" >5</th>\n",
       "      <td id=\"T_27e2e_row5_col0\" class=\"data row5 col0\" >Preprocess</td>\n",
       "      <td id=\"T_27e2e_row5_col1\" class=\"data row5 col1\" >True</td>\n",
       "    </tr>\n",
       "    <tr>\n",
       "      <th id=\"T_27e2e_level0_row6\" class=\"row_heading level0 row6\" >6</th>\n",
       "      <td id=\"T_27e2e_row6_col0\" class=\"data row6 col0\" >Imputation type</td>\n",
       "      <td id=\"T_27e2e_row6_col1\" class=\"data row6 col1\" >simple</td>\n",
       "    </tr>\n",
       "    <tr>\n",
       "      <th id=\"T_27e2e_level0_row7\" class=\"row_heading level0 row7\" >7</th>\n",
       "      <td id=\"T_27e2e_row7_col0\" class=\"data row7 col0\" >Numeric imputation</td>\n",
       "      <td id=\"T_27e2e_row7_col1\" class=\"data row7 col1\" >mean</td>\n",
       "    </tr>\n",
       "    <tr>\n",
       "      <th id=\"T_27e2e_level0_row8\" class=\"row_heading level0 row8\" >8</th>\n",
       "      <td id=\"T_27e2e_row8_col0\" class=\"data row8 col0\" >Categorical imputation</td>\n",
       "      <td id=\"T_27e2e_row8_col1\" class=\"data row8 col1\" >mode</td>\n",
       "    </tr>\n",
       "    <tr>\n",
       "      <th id=\"T_27e2e_level0_row9\" class=\"row_heading level0 row9\" >9</th>\n",
       "      <td id=\"T_27e2e_row9_col0\" class=\"data row9 col0\" >Maximum one-hot encoding</td>\n",
       "      <td id=\"T_27e2e_row9_col1\" class=\"data row9 col1\" >-1</td>\n",
       "    </tr>\n",
       "    <tr>\n",
       "      <th id=\"T_27e2e_level0_row10\" class=\"row_heading level0 row10\" >10</th>\n",
       "      <td id=\"T_27e2e_row10_col0\" class=\"data row10 col0\" >Encoding method</td>\n",
       "      <td id=\"T_27e2e_row10_col1\" class=\"data row10 col1\" >None</td>\n",
       "    </tr>\n",
       "    <tr>\n",
       "      <th id=\"T_27e2e_level0_row11\" class=\"row_heading level0 row11\" >11</th>\n",
       "      <td id=\"T_27e2e_row11_col0\" class=\"data row11 col0\" >Normalize</td>\n",
       "      <td id=\"T_27e2e_row11_col1\" class=\"data row11 col1\" >True</td>\n",
       "    </tr>\n",
       "    <tr>\n",
       "      <th id=\"T_27e2e_level0_row12\" class=\"row_heading level0 row12\" >12</th>\n",
       "      <td id=\"T_27e2e_row12_col0\" class=\"data row12 col0\" >Normalize method</td>\n",
       "      <td id=\"T_27e2e_row12_col1\" class=\"data row12 col1\" >zscore</td>\n",
       "    </tr>\n",
       "    <tr>\n",
       "      <th id=\"T_27e2e_level0_row13\" class=\"row_heading level0 row13\" >13</th>\n",
       "      <td id=\"T_27e2e_row13_col0\" class=\"data row13 col0\" >CPU Jobs</td>\n",
       "      <td id=\"T_27e2e_row13_col1\" class=\"data row13 col1\" >-1</td>\n",
       "    </tr>\n",
       "    <tr>\n",
       "      <th id=\"T_27e2e_level0_row14\" class=\"row_heading level0 row14\" >14</th>\n",
       "      <td id=\"T_27e2e_row14_col0\" class=\"data row14 col0\" >Use GPU</td>\n",
       "      <td id=\"T_27e2e_row14_col1\" class=\"data row14 col1\" >False</td>\n",
       "    </tr>\n",
       "    <tr>\n",
       "      <th id=\"T_27e2e_level0_row15\" class=\"row_heading level0 row15\" >15</th>\n",
       "      <td id=\"T_27e2e_row15_col0\" class=\"data row15 col0\" >Log Experiment</td>\n",
       "      <td id=\"T_27e2e_row15_col1\" class=\"data row15 col1\" >False</td>\n",
       "    </tr>\n",
       "    <tr>\n",
       "      <th id=\"T_27e2e_level0_row16\" class=\"row_heading level0 row16\" >16</th>\n",
       "      <td id=\"T_27e2e_row16_col0\" class=\"data row16 col0\" >Experiment Name</td>\n",
       "      <td id=\"T_27e2e_row16_col1\" class=\"data row16 col1\" >anomaly-default-name</td>\n",
       "    </tr>\n",
       "    <tr>\n",
       "      <th id=\"T_27e2e_level0_row17\" class=\"row_heading level0 row17\" >17</th>\n",
       "      <td id=\"T_27e2e_row17_col0\" class=\"data row17 col0\" >USI</td>\n",
       "      <td id=\"T_27e2e_row17_col1\" class=\"data row17 col1\" >44e7</td>\n",
       "    </tr>\n",
       "  </tbody>\n",
       "</table>\n"
      ],
      "text/plain": [
       "<pandas.io.formats.style.Styler at 0x2461f6958e0>"
      ]
     },
     "metadata": {},
     "output_type": "display_data"
    },
    {
     "data": {
      "text/html": [],
      "text/plain": [
       "<IPython.core.display.HTML object>"
      ]
     },
     "metadata": {},
     "output_type": "display_data"
    },
    {
     "data": {
      "text/html": [],
      "text/plain": [
       "<IPython.core.display.HTML object>"
      ]
     },
     "metadata": {},
     "output_type": "display_data"
    },
    {
     "data": {
      "text/html": [],
      "text/plain": [
       "<IPython.core.display.HTML object>"
      ]
     },
     "metadata": {},
     "output_type": "display_data"
    },
    {
     "name": "stdout",
     "output_type": "stream",
     "text": [
      "      id            class  petallength  petalwidth  sepallength  sepalwidth  \\\n",
      "15    16      Iris-setosa          1.5         0.4          5.7         4.4   \n",
      "41    42      Iris-setosa          1.3         0.3          4.5         2.3   \n",
      "60    61  Iris-versicolor          3.5         1.0          5.0         2.0   \n",
      "106  107   Iris-virginica          4.5         1.7          4.9         2.5   \n",
      "109  110   Iris-virginica          6.1         2.5          7.2         3.6   \n",
      "117  118   Iris-virginica          6.7         2.2          7.7         3.8   \n",
      "119  120   Iris-virginica          5.0         1.5          6.0         2.2   \n",
      "131  132   Iris-virginica          6.4         2.0          7.9         3.8   \n",
      "\n",
      "     Anomaly  Anomaly_Score  \n",
      "15         1       1.239794  \n",
      "41         1       1.784033  \n",
      "60         1       1.218003  \n",
      "106        1       1.580673  \n",
      "109        1       1.285678  \n",
      "117        1       1.792424  \n",
      "119        1       1.279903  \n",
      "131        1       1.918061  \n"
     ]
    }
   ],
   "source": [
    "import pandas as pd\n",
    "from pycaret.anomaly import *\n",
    "\n",
    "dataset = pd.read_csv(\"data_gabungan_iris.csv\")\n",
    "data = dataset.copy()\n",
    "\n",
    "setup_data = setup(data, session_id=123, normalize=True)\n",
    "knn = create_model('knn')\n",
    "knn_predictions = assign_model(knn)\n",
    "\n",
    "data_anomaly = knn_predictions[knn_predictions['Anomaly'] == 1]\n",
    "print(data_anomaly)"
   ]
  },
  {
   "cell_type": "markdown",
   "id": "31e2d6f4",
   "metadata": {},
   "source": [
    "Penjelasan code:\n",
    "- Pertama import library yang akan digunakan seperti pandas dan pycaret.\n",
    "- Load dataset menggunakan method copy().\n",
    "- Persiapkan model pycaret menggunakan fungsi setup() yang di dalamnya berisi parameter berupa data dan session_id.\n",
    "- Gunakan model ‘knn’ menggunakan fungsi create_model().\n",
    "- Setelah itu, terapkan model menggunakan fungsi assign_model().\n",
    "- Seleksi data oulier melalui pengaksesan indeks nilai kolom yang memiliki nilai = 1, sebab outlier direpresentasikan dengan nilai 1.\n",
    "- Muat data outlier pada Power BI dengan menuliskan kembali variabel yang menyimpan proses seperti ‘data_anomaly’.\n",
    "\n",
    "Hasil Pendeteksian Outlier Pada Power BI menggunakan Metode KNN"
   ]
  },
  {
   "cell_type": "code",
   "execution_count": null,
   "id": "bdc2d968",
   "metadata": {},
   "outputs": [],
   "source": [
    "import pandas as pd\n",
    "from pycaret.anomaly import *\n",
    "\n",
    "data = dataset.copy()\n",
    "setup_data = setup(data, session_id=123)\n",
    "knn = create_model('knn')\n",
    "knn_predictions = assign_model(knn)\n",
    "\n",
    "data_anomaly = knn_predictions[knn_predictions['Anomaly'] == 1]\n",
    "data_anomaly"
   ]
  },
  {
   "cell_type": "markdown",
   "id": "7a02f890",
   "metadata": {},
   "source": [
    "![Screenshot](images/200822.png)  \n",
    "\n",
    "Berdasarkan tabel pada gambar tersebut, ditemukan data yang terdeksi outlier sebanyak 8 data dengan representasi nilai yakni 1.  \n",
    "\n",
    "### Model Deteksi Outlier LOF  \n",
    "\n",
    "Local Outlier Factor (LOF) adalah sebuah metode untuk mendeteksi outlier dengan cara membandingkan kepadatan suatu data dengan kepadatan data di sekitarnya. Jika sebuah data berada di area yang jauh lebih jarang atau kurang padat dibanding tetangga terdekatnya, maka data tersebut dianggap sebagai outlier. Nilai LOF mendekati 1 menunjukkan bahwa data normal, sedangkan nilai LOF yang jauh lebih besar dari 1 menunjukkan potensi outlier.  \n",
    "\n",
    "Berikut Contoh Code Implementasi model KNN pada data Iris:  "
   ]
  },
  {
   "cell_type": "code",
   "execution_count": 11,
   "id": "5552f6d6",
   "metadata": {},
   "outputs": [
    {
     "data": {
      "text/html": [
       "<style type=\"text/css\">\n",
       "#T_932bc_row5_col1, #T_932bc_row11_col1 {\n",
       "  background-color: lightgreen;\n",
       "}\n",
       "</style>\n",
       "<table id=\"T_932bc\">\n",
       "  <thead>\n",
       "    <tr>\n",
       "      <th class=\"blank level0\" >&nbsp;</th>\n",
       "      <th id=\"T_932bc_level0_col0\" class=\"col_heading level0 col0\" >Description</th>\n",
       "      <th id=\"T_932bc_level0_col1\" class=\"col_heading level0 col1\" >Value</th>\n",
       "    </tr>\n",
       "  </thead>\n",
       "  <tbody>\n",
       "    <tr>\n",
       "      <th id=\"T_932bc_level0_row0\" class=\"row_heading level0 row0\" >0</th>\n",
       "      <td id=\"T_932bc_row0_col0\" class=\"data row0 col0\" >Session id</td>\n",
       "      <td id=\"T_932bc_row0_col1\" class=\"data row0 col1\" >123</td>\n",
       "    </tr>\n",
       "    <tr>\n",
       "      <th id=\"T_932bc_level0_row1\" class=\"row_heading level0 row1\" >1</th>\n",
       "      <td id=\"T_932bc_row1_col0\" class=\"data row1 col0\" >Original data shape</td>\n",
       "      <td id=\"T_932bc_row1_col1\" class=\"data row1 col1\" >(150, 6)</td>\n",
       "    </tr>\n",
       "    <tr>\n",
       "      <th id=\"T_932bc_level0_row2\" class=\"row_heading level0 row2\" >2</th>\n",
       "      <td id=\"T_932bc_row2_col0\" class=\"data row2 col0\" >Transformed data shape</td>\n",
       "      <td id=\"T_932bc_row2_col1\" class=\"data row2 col1\" >(150, 8)</td>\n",
       "    </tr>\n",
       "    <tr>\n",
       "      <th id=\"T_932bc_level0_row3\" class=\"row_heading level0 row3\" >3</th>\n",
       "      <td id=\"T_932bc_row3_col0\" class=\"data row3 col0\" >Numeric features</td>\n",
       "      <td id=\"T_932bc_row3_col1\" class=\"data row3 col1\" >5</td>\n",
       "    </tr>\n",
       "    <tr>\n",
       "      <th id=\"T_932bc_level0_row4\" class=\"row_heading level0 row4\" >4</th>\n",
       "      <td id=\"T_932bc_row4_col0\" class=\"data row4 col0\" >Categorical features</td>\n",
       "      <td id=\"T_932bc_row4_col1\" class=\"data row4 col1\" >1</td>\n",
       "    </tr>\n",
       "    <tr>\n",
       "      <th id=\"T_932bc_level0_row5\" class=\"row_heading level0 row5\" >5</th>\n",
       "      <td id=\"T_932bc_row5_col0\" class=\"data row5 col0\" >Preprocess</td>\n",
       "      <td id=\"T_932bc_row5_col1\" class=\"data row5 col1\" >True</td>\n",
       "    </tr>\n",
       "    <tr>\n",
       "      <th id=\"T_932bc_level0_row6\" class=\"row_heading level0 row6\" >6</th>\n",
       "      <td id=\"T_932bc_row6_col0\" class=\"data row6 col0\" >Imputation type</td>\n",
       "      <td id=\"T_932bc_row6_col1\" class=\"data row6 col1\" >simple</td>\n",
       "    </tr>\n",
       "    <tr>\n",
       "      <th id=\"T_932bc_level0_row7\" class=\"row_heading level0 row7\" >7</th>\n",
       "      <td id=\"T_932bc_row7_col0\" class=\"data row7 col0\" >Numeric imputation</td>\n",
       "      <td id=\"T_932bc_row7_col1\" class=\"data row7 col1\" >mean</td>\n",
       "    </tr>\n",
       "    <tr>\n",
       "      <th id=\"T_932bc_level0_row8\" class=\"row_heading level0 row8\" >8</th>\n",
       "      <td id=\"T_932bc_row8_col0\" class=\"data row8 col0\" >Categorical imputation</td>\n",
       "      <td id=\"T_932bc_row8_col1\" class=\"data row8 col1\" >mode</td>\n",
       "    </tr>\n",
       "    <tr>\n",
       "      <th id=\"T_932bc_level0_row9\" class=\"row_heading level0 row9\" >9</th>\n",
       "      <td id=\"T_932bc_row9_col0\" class=\"data row9 col0\" >Maximum one-hot encoding</td>\n",
       "      <td id=\"T_932bc_row9_col1\" class=\"data row9 col1\" >-1</td>\n",
       "    </tr>\n",
       "    <tr>\n",
       "      <th id=\"T_932bc_level0_row10\" class=\"row_heading level0 row10\" >10</th>\n",
       "      <td id=\"T_932bc_row10_col0\" class=\"data row10 col0\" >Encoding method</td>\n",
       "      <td id=\"T_932bc_row10_col1\" class=\"data row10 col1\" >None</td>\n",
       "    </tr>\n",
       "    <tr>\n",
       "      <th id=\"T_932bc_level0_row11\" class=\"row_heading level0 row11\" >11</th>\n",
       "      <td id=\"T_932bc_row11_col0\" class=\"data row11 col0\" >Normalize</td>\n",
       "      <td id=\"T_932bc_row11_col1\" class=\"data row11 col1\" >True</td>\n",
       "    </tr>\n",
       "    <tr>\n",
       "      <th id=\"T_932bc_level0_row12\" class=\"row_heading level0 row12\" >12</th>\n",
       "      <td id=\"T_932bc_row12_col0\" class=\"data row12 col0\" >Normalize method</td>\n",
       "      <td id=\"T_932bc_row12_col1\" class=\"data row12 col1\" >zscore</td>\n",
       "    </tr>\n",
       "    <tr>\n",
       "      <th id=\"T_932bc_level0_row13\" class=\"row_heading level0 row13\" >13</th>\n",
       "      <td id=\"T_932bc_row13_col0\" class=\"data row13 col0\" >CPU Jobs</td>\n",
       "      <td id=\"T_932bc_row13_col1\" class=\"data row13 col1\" >-1</td>\n",
       "    </tr>\n",
       "    <tr>\n",
       "      <th id=\"T_932bc_level0_row14\" class=\"row_heading level0 row14\" >14</th>\n",
       "      <td id=\"T_932bc_row14_col0\" class=\"data row14 col0\" >Use GPU</td>\n",
       "      <td id=\"T_932bc_row14_col1\" class=\"data row14 col1\" >False</td>\n",
       "    </tr>\n",
       "    <tr>\n",
       "      <th id=\"T_932bc_level0_row15\" class=\"row_heading level0 row15\" >15</th>\n",
       "      <td id=\"T_932bc_row15_col0\" class=\"data row15 col0\" >Log Experiment</td>\n",
       "      <td id=\"T_932bc_row15_col1\" class=\"data row15 col1\" >False</td>\n",
       "    </tr>\n",
       "    <tr>\n",
       "      <th id=\"T_932bc_level0_row16\" class=\"row_heading level0 row16\" >16</th>\n",
       "      <td id=\"T_932bc_row16_col0\" class=\"data row16 col0\" >Experiment Name</td>\n",
       "      <td id=\"T_932bc_row16_col1\" class=\"data row16 col1\" >anomaly-default-name</td>\n",
       "    </tr>\n",
       "    <tr>\n",
       "      <th id=\"T_932bc_level0_row17\" class=\"row_heading level0 row17\" >17</th>\n",
       "      <td id=\"T_932bc_row17_col0\" class=\"data row17 col0\" >USI</td>\n",
       "      <td id=\"T_932bc_row17_col1\" class=\"data row17 col1\" >d285</td>\n",
       "    </tr>\n",
       "  </tbody>\n",
       "</table>\n"
      ],
      "text/plain": [
       "<pandas.io.formats.style.Styler at 0x2461f750dc0>"
      ]
     },
     "metadata": {},
     "output_type": "display_data"
    },
    {
     "data": {
      "text/html": [],
      "text/plain": [
       "<IPython.core.display.HTML object>"
      ]
     },
     "metadata": {},
     "output_type": "display_data"
    },
    {
     "data": {
      "text/html": [],
      "text/plain": [
       "<IPython.core.display.HTML object>"
      ]
     },
     "metadata": {},
     "output_type": "display_data"
    },
    {
     "data": {
      "text/html": [],
      "text/plain": [
       "<IPython.core.display.HTML object>"
      ]
     },
     "metadata": {},
     "output_type": "display_data"
    },
    {
     "name": "stdout",
     "output_type": "stream",
     "text": [
      "      id            class  petallength  petalwidth  sepallength  sepalwidth  \\\n",
      "15    16      Iris-setosa          1.5         0.4          5.7         4.4   \n",
      "33    34      Iris-setosa          1.4         0.2          5.5         4.2   \n",
      "41    42      Iris-setosa          1.3         0.3          4.5         2.3   \n",
      "60    61  Iris-versicolor          3.5         1.0          5.0         2.0   \n",
      "106  107   Iris-virginica          4.5         1.7          4.9         2.5   \n",
      "117  118   Iris-virginica          6.7         2.2          7.7         3.8   \n",
      "118  119   Iris-virginica          6.9         2.3          7.7         2.6   \n",
      "131  132   Iris-virginica          6.4         2.0          7.9         3.8   \n",
      "\n",
      "     Anomaly  Anomaly_Score  \n",
      "15         1       1.795928  \n",
      "33         1       1.454671  \n",
      "41         1       2.122922  \n",
      "60         1       1.448922  \n",
      "106        1       1.531656  \n",
      "117        1       1.645293  \n",
      "118        1       1.420490  \n",
      "131        1       1.686484  \n"
     ]
    }
   ],
   "source": [
    "import pandas as pd\n",
    "from pycaret.anomaly import *\n",
    "\n",
    "dataset = pd.read_csv(\"data_gabungan_iris.csv\")\n",
    "data = dataset.copy()\n",
    "\n",
    "setup_data = setup(data, session_id=123, normalize=True)\n",
    "lof = create_model('lof')\n",
    "lof_predictions = assign_model(lof)\n",
    "\n",
    "data_anomaly = lof_predictions[lof_predictions['Anomaly'] == 1]\n",
    "print(data_anomaly)"
   ]
  },
  {
   "cell_type": "markdown",
   "id": "36d53952",
   "metadata": {},
   "source": [
    "Penjelasan code:  \n",
    "- Pertama import library yang akan digunakan seperti pandas dan pycaret.\n",
    "- Load dataset menggunakan method copy().\n",
    "- Persiapkan model pycaret menggunakan fungsi setup() yang di dalamnya berisi parameter berupa data dan session_id.\n",
    "- Gunakan model ‘lof’ menggunakan fungsi create_model().\n",
    "- Setelah itu, terapkan model menggunakan fungsi assign_model().\n",
    "- Seleksi data oulier melalui pengaksesan indeks nilai kolom yang memiliki nilai = 1, sebab outlier direpresentasikan dengan nilai 1.\n",
    "- Muat data outlier pada Power BI dengan menuliskan kembali variabel yang menyimpan proses seperti ‘data_anomaly’."
   ]
  },
  {
   "cell_type": "code",
   "execution_count": null,
   "id": "cd6b6006",
   "metadata": {},
   "outputs": [],
   "source": [
    "import pandas as pd\n",
    "from pycaret.anomaly import *\n",
    "\n",
    "data = dataset.copy()\n",
    "setup_data = setup(data, session_id=123)\n",
    "lof = create_model('lof')\n",
    "lof_predictions = assign_model(lof)\n",
    "\n",
    "data_anomaly = lof_predictions[lof_predictions['Anomaly'] == 1]\n",
    "data_anomaly"
   ]
  },
  {
   "cell_type": "markdown",
   "id": "e1cea69a",
   "metadata": {},
   "source": [
    "![Screenshot](images/201351.png)  \n",
    "\n",
    "Berdasarkan tabel pada gambar tersebut, ditemukan data yang terdeksi outlier sebanyak 8 data dengan representasi nilai yakni 1.  \n",
    "\n",
    "## Menghapus Data Outlier pada Iris di Power BI  \n",
    "\n",
    "### Remove Data Outlier Hasil dari Metode ABOD  "
   ]
  },
  {
   "cell_type": "code",
   "execution_count": 15,
   "id": "58a9ff7d",
   "metadata": {},
   "outputs": [
    {
     "data": {
      "text/html": [
       "<style type=\"text/css\">\n",
       "#T_9efa6_row5_col1, #T_9efa6_row11_col1 {\n",
       "  background-color: lightgreen;\n",
       "}\n",
       "</style>\n",
       "<table id=\"T_9efa6\">\n",
       "  <thead>\n",
       "    <tr>\n",
       "      <th class=\"blank level0\" >&nbsp;</th>\n",
       "      <th id=\"T_9efa6_level0_col0\" class=\"col_heading level0 col0\" >Description</th>\n",
       "      <th id=\"T_9efa6_level0_col1\" class=\"col_heading level0 col1\" >Value</th>\n",
       "    </tr>\n",
       "  </thead>\n",
       "  <tbody>\n",
       "    <tr>\n",
       "      <th id=\"T_9efa6_level0_row0\" class=\"row_heading level0 row0\" >0</th>\n",
       "      <td id=\"T_9efa6_row0_col0\" class=\"data row0 col0\" >Session id</td>\n",
       "      <td id=\"T_9efa6_row0_col1\" class=\"data row0 col1\" >123</td>\n",
       "    </tr>\n",
       "    <tr>\n",
       "      <th id=\"T_9efa6_level0_row1\" class=\"row_heading level0 row1\" >1</th>\n",
       "      <td id=\"T_9efa6_row1_col0\" class=\"data row1 col0\" >Original data shape</td>\n",
       "      <td id=\"T_9efa6_row1_col1\" class=\"data row1 col1\" >(150, 6)</td>\n",
       "    </tr>\n",
       "    <tr>\n",
       "      <th id=\"T_9efa6_level0_row2\" class=\"row_heading level0 row2\" >2</th>\n",
       "      <td id=\"T_9efa6_row2_col0\" class=\"data row2 col0\" >Transformed data shape</td>\n",
       "      <td id=\"T_9efa6_row2_col1\" class=\"data row2 col1\" >(150, 8)</td>\n",
       "    </tr>\n",
       "    <tr>\n",
       "      <th id=\"T_9efa6_level0_row3\" class=\"row_heading level0 row3\" >3</th>\n",
       "      <td id=\"T_9efa6_row3_col0\" class=\"data row3 col0\" >Numeric features</td>\n",
       "      <td id=\"T_9efa6_row3_col1\" class=\"data row3 col1\" >5</td>\n",
       "    </tr>\n",
       "    <tr>\n",
       "      <th id=\"T_9efa6_level0_row4\" class=\"row_heading level0 row4\" >4</th>\n",
       "      <td id=\"T_9efa6_row4_col0\" class=\"data row4 col0\" >Categorical features</td>\n",
       "      <td id=\"T_9efa6_row4_col1\" class=\"data row4 col1\" >1</td>\n",
       "    </tr>\n",
       "    <tr>\n",
       "      <th id=\"T_9efa6_level0_row5\" class=\"row_heading level0 row5\" >5</th>\n",
       "      <td id=\"T_9efa6_row5_col0\" class=\"data row5 col0\" >Preprocess</td>\n",
       "      <td id=\"T_9efa6_row5_col1\" class=\"data row5 col1\" >True</td>\n",
       "    </tr>\n",
       "    <tr>\n",
       "      <th id=\"T_9efa6_level0_row6\" class=\"row_heading level0 row6\" >6</th>\n",
       "      <td id=\"T_9efa6_row6_col0\" class=\"data row6 col0\" >Imputation type</td>\n",
       "      <td id=\"T_9efa6_row6_col1\" class=\"data row6 col1\" >simple</td>\n",
       "    </tr>\n",
       "    <tr>\n",
       "      <th id=\"T_9efa6_level0_row7\" class=\"row_heading level0 row7\" >7</th>\n",
       "      <td id=\"T_9efa6_row7_col0\" class=\"data row7 col0\" >Numeric imputation</td>\n",
       "      <td id=\"T_9efa6_row7_col1\" class=\"data row7 col1\" >mean</td>\n",
       "    </tr>\n",
       "    <tr>\n",
       "      <th id=\"T_9efa6_level0_row8\" class=\"row_heading level0 row8\" >8</th>\n",
       "      <td id=\"T_9efa6_row8_col0\" class=\"data row8 col0\" >Categorical imputation</td>\n",
       "      <td id=\"T_9efa6_row8_col1\" class=\"data row8 col1\" >mode</td>\n",
       "    </tr>\n",
       "    <tr>\n",
       "      <th id=\"T_9efa6_level0_row9\" class=\"row_heading level0 row9\" >9</th>\n",
       "      <td id=\"T_9efa6_row9_col0\" class=\"data row9 col0\" >Maximum one-hot encoding</td>\n",
       "      <td id=\"T_9efa6_row9_col1\" class=\"data row9 col1\" >-1</td>\n",
       "    </tr>\n",
       "    <tr>\n",
       "      <th id=\"T_9efa6_level0_row10\" class=\"row_heading level0 row10\" >10</th>\n",
       "      <td id=\"T_9efa6_row10_col0\" class=\"data row10 col0\" >Encoding method</td>\n",
       "      <td id=\"T_9efa6_row10_col1\" class=\"data row10 col1\" >None</td>\n",
       "    </tr>\n",
       "    <tr>\n",
       "      <th id=\"T_9efa6_level0_row11\" class=\"row_heading level0 row11\" >11</th>\n",
       "      <td id=\"T_9efa6_row11_col0\" class=\"data row11 col0\" >Normalize</td>\n",
       "      <td id=\"T_9efa6_row11_col1\" class=\"data row11 col1\" >True</td>\n",
       "    </tr>\n",
       "    <tr>\n",
       "      <th id=\"T_9efa6_level0_row12\" class=\"row_heading level0 row12\" >12</th>\n",
       "      <td id=\"T_9efa6_row12_col0\" class=\"data row12 col0\" >Normalize method</td>\n",
       "      <td id=\"T_9efa6_row12_col1\" class=\"data row12 col1\" >zscore</td>\n",
       "    </tr>\n",
       "    <tr>\n",
       "      <th id=\"T_9efa6_level0_row13\" class=\"row_heading level0 row13\" >13</th>\n",
       "      <td id=\"T_9efa6_row13_col0\" class=\"data row13 col0\" >CPU Jobs</td>\n",
       "      <td id=\"T_9efa6_row13_col1\" class=\"data row13 col1\" >-1</td>\n",
       "    </tr>\n",
       "    <tr>\n",
       "      <th id=\"T_9efa6_level0_row14\" class=\"row_heading level0 row14\" >14</th>\n",
       "      <td id=\"T_9efa6_row14_col0\" class=\"data row14 col0\" >Use GPU</td>\n",
       "      <td id=\"T_9efa6_row14_col1\" class=\"data row14 col1\" >False</td>\n",
       "    </tr>\n",
       "    <tr>\n",
       "      <th id=\"T_9efa6_level0_row15\" class=\"row_heading level0 row15\" >15</th>\n",
       "      <td id=\"T_9efa6_row15_col0\" class=\"data row15 col0\" >Log Experiment</td>\n",
       "      <td id=\"T_9efa6_row15_col1\" class=\"data row15 col1\" >False</td>\n",
       "    </tr>\n",
       "    <tr>\n",
       "      <th id=\"T_9efa6_level0_row16\" class=\"row_heading level0 row16\" >16</th>\n",
       "      <td id=\"T_9efa6_row16_col0\" class=\"data row16 col0\" >Experiment Name</td>\n",
       "      <td id=\"T_9efa6_row16_col1\" class=\"data row16 col1\" >anomaly-default-name</td>\n",
       "    </tr>\n",
       "    <tr>\n",
       "      <th id=\"T_9efa6_level0_row17\" class=\"row_heading level0 row17\" >17</th>\n",
       "      <td id=\"T_9efa6_row17_col0\" class=\"data row17 col0\" >USI</td>\n",
       "      <td id=\"T_9efa6_row17_col1\" class=\"data row17 col1\" >740f</td>\n",
       "    </tr>\n",
       "  </tbody>\n",
       "</table>\n"
      ],
      "text/plain": [
       "<pandas.io.formats.style.Styler at 0x2461f221850>"
      ]
     },
     "metadata": {},
     "output_type": "display_data"
    },
    {
     "data": {
      "text/html": [],
      "text/plain": [
       "<IPython.core.display.HTML object>"
      ]
     },
     "metadata": {},
     "output_type": "display_data"
    },
    {
     "data": {
      "text/html": [],
      "text/plain": [
       "<IPython.core.display.HTML object>"
      ]
     },
     "metadata": {},
     "output_type": "display_data"
    },
    {
     "data": {
      "text/html": [],
      "text/plain": [
       "<IPython.core.display.HTML object>"
      ]
     },
     "metadata": {},
     "output_type": "display_data"
    },
    {
     "name": "stdout",
     "output_type": "stream",
     "text": [
      "      id           class  petallength  petalwidth  sepallength  sepalwidth  \\\n",
      "0      1     Iris-setosa          1.4         0.2          5.1         3.5   \n",
      "1      2     Iris-setosa          1.4         0.2          4.9         3.0   \n",
      "2      3     Iris-setosa          1.3         0.2          4.7         3.2   \n",
      "3      4     Iris-setosa          1.5         0.2          4.6         3.1   \n",
      "4      5     Iris-setosa          1.4         0.2          5.0         3.6   \n",
      "..   ...             ...          ...         ...          ...         ...   \n",
      "144  145  Iris-virginica          5.7         2.5          6.7         3.3   \n",
      "145  146  Iris-virginica          5.2         2.3          6.7         3.0   \n",
      "147  148  Iris-virginica          5.2         2.0          6.5         3.0   \n",
      "148  149  Iris-virginica          5.4         2.3          6.2         3.4   \n",
      "149  150  Iris-virginica          5.1         1.8          5.9         3.0   \n",
      "\n",
      "     Anomaly  Anomaly_Score  \n",
      "0          0      -7.604558  \n",
      "1          0      -3.442097  \n",
      "2          0      -9.998563  \n",
      "3          0      -9.196370  \n",
      "4          0      -6.603730  \n",
      "..       ...            ...  \n",
      "144        0      -2.878325  \n",
      "145        0      -4.908979  \n",
      "147        0      -2.901297  \n",
      "148        0      -0.382975  \n",
      "149        0      -2.133567  \n",
      "\n",
      "[142 rows x 8 columns]\n"
     ]
    }
   ],
   "source": [
    "import pandas as pd\n",
    "from pycaret.anomaly import *\n",
    "\n",
    "dataset = pd.read_csv(\"data_gabungan_iris.csv\")\n",
    "data = dataset.copy()\n",
    "\n",
    "abod_data = setup(data, session_id=123, normalize=True)\n",
    "abod = create_model('abod')\n",
    "abod_predictions = assign_model(abod)\n",
    "\n",
    "#mencari index data outlier\n",
    "data_anomaly = abod_predictions[abod_predictions['Anomaly'] == 1].index\n",
    "\n",
    "#menghapus data outlier\n",
    "clean_data_outlier = abod_predictions.drop(index=data_anomaly)\n",
    "print(clean_data_outlier)"
   ]
  },
  {
   "cell_type": "markdown",
   "id": "cc5e62c3",
   "metadata": {},
   "source": [
    "Penjelasan code:\n",
    "- Pertama import library yang akan digunakan seperti pandas dan pycaret.\n",
    "- Load dataset menggunakan method copy().\n",
    "- Persiapkan model pycaret menggunakan fungsi setup() yang di dalamnya berisi parameter berupa data dan session_id.\n",
    "- Gunakan model ‘abod’ menggunakan fungsi create_model().\n",
    "- Setelah itu, terapkan model menggunakan fungsi assign_model().\n",
    "- Seleksi indeks data oulier melalui pengaksesan indeks nilai kolom yang memiliki nilai = 1, sebab outlier direpresentasikan dengan nilai 1.\n",
    "- Hapus data menggunakan fungsi drop() berdasarkan data yang memiliki nilai = 1.\n",
    "- Muat data outlier pada Power BI dengan menuliskan kembali variabel yang menyimpan proses seperti ‘clean_data_outlier’."
   ]
  },
  {
   "cell_type": "code",
   "execution_count": null,
   "id": "a0e978b5",
   "metadata": {},
   "outputs": [],
   "source": [
    "import pandas as pd\n",
    "from pycaret.anomaly import *\n",
    "\n",
    "data = dataset.copy()\n",
    "\n",
    "abod_data = setup(data, session_id=123)\n",
    "abod = create_model('abod')\n",
    "abod_predictions = assign_model(abod)\n",
    "\n",
    "#mencari index data outlier\n",
    "data_anomaly = abod_predictions[abod_predictions['Anomaly'] == 1].index\n",
    "\n",
    "#menghapus data outlier\n",
    "clean_data_outlier = abod_predictions.drop(index=data_anomaly)\n",
    "clean_data_outlier"
   ]
  },
  {
   "cell_type": "markdown",
   "id": "3f426053",
   "metadata": {},
   "source": [
    "![Screenshot](images/203629.png)  \n",
    "\n",
    "Berdasarkan tabel di atas sisa data yang berhasil dibersihkan dari outlier yakni sebanyak 142 data."
   ]
  },
  {
   "cell_type": "code",
   "execution_count": 20,
   "id": "e4d0e384",
   "metadata": {},
   "outputs": [
    {
     "data": {
      "text/html": [],
      "text/plain": [
       "<IPython.core.display.HTML object>"
      ]
     },
     "metadata": {},
     "output_type": "display_data"
    },
    {
     "data": {
      "text/html": [],
      "text/plain": [
       "<IPython.core.display.HTML object>"
      ]
     },
     "metadata": {},
     "output_type": "display_data"
    },
    {
     "data": {
      "text/html": [],
      "text/plain": [
       "<IPython.core.display.HTML object>"
      ]
     },
     "metadata": {},
     "output_type": "display_data"
    },
    {
     "name": "stdout",
     "output_type": "stream",
     "text": [
      "Data asli: (150, 8)\n",
      "Data setelah hapus outlier: (142, 8)\n"
     ]
    },
    {
     "data": {
      "image/png": "[encoded data removed]",
      "text/plain": [
       "<Figure size 1400x600 with 2 Axes>"
      ]
     },
     "metadata": {},
     "output_type": "display_data"
    }
   ],
   "source": [
    "import pandas as pd\n",
    "from pycaret.anomaly import *\n",
    "import matplotlib.pyplot as plt\n",
    "\n",
    "# copy dataset\n",
    "dataset = pd.read_csv(\"data_gabungan_iris.csv\")\n",
    "data = dataset.copy()\n",
    "\n",
    "# buat model ABOD (ambil 5% data sebagai outlier)\n",
    "abod = create_model('abod', fraction=0.05)\n",
    "\n",
    "# assign hasil prediksi\n",
    "results = assign_model(abod)\n",
    "\n",
    "# pisahkan data normal\n",
    "cleaned_data = results[results[\"Anomaly\"] == 0].copy()\n",
    "\n",
    "print(\"Data asli:\", results.shape)\n",
    "print(\"Data setelah hapus outlier:\", cleaned_data.shape)\n",
    "\n",
    "# buat visualisasi\n",
    "fig, axes = plt.subplots(1, 2, figsize=(14,6))\n",
    "\n",
    "# sebelum hapus outlier\n",
    "axes[0].scatter(\n",
    "    results['sepallength'], results['sepalwidth'],\n",
    "    c=results['Anomaly'], cmap='coolwarm', edgecolor='k'\n",
    ")\n",
    "axes[0].set_title(\"Sebelum Hapus Outlier (ABOD)\")\n",
    "axes[0].set_xlabel(\"Sepal Length\")\n",
    "axes[0].set_ylabel(\"Sepal Width\")\n",
    "\n",
    "# sesudah hapus outlier\n",
    "axes[1].scatter(\n",
    "    cleaned_data['sepallength'], cleaned_data['sepalwidth'],\n",
    "    c='blue', edgecolor='k'\n",
    ")\n",
    "axes[1].set_title(\"Sesudah Hapus Outlier (ABOD)\")\n",
    "axes[1].set_xlabel(\"Sepal Length\")\n",
    "axes[1].set_ylabel(\"Sepal Width\")\n",
    "\n",
    "# legend manual\n",
    "handles = [\n",
    "    plt.Line2D([0], [0], marker='o', color='w', label='Normal',\n",
    "               markerfacecolor='blue', markersize=8),\n",
    "    plt.Line2D([0], [0], marker='o', color='w', label='Outlier',\n",
    "               markerfacecolor='red', markersize=8)\n",
    "]\n",
    "plt.legend(handles=handles)\n",
    "\n",
    "plt.tight_layout()\n",
    "plt.show()\n"
   ]
  },
  {
   "cell_type": "markdown",
   "id": "e6996dc7",
   "metadata": {},
   "source": [
    "### Remove Data Outlier Hasil dari Metode KNN  "
   ]
  },
  {
   "cell_type": "code",
   "execution_count": 26,
   "id": "275dfecf",
   "metadata": {},
   "outputs": [
    {
     "data": {
      "text/html": [
       "<style type=\"text/css\">\n",
       "#T_73b52_row5_col1, #T_73b52_row11_col1 {\n",
       "  background-color: lightgreen;\n",
       "}\n",
       "</style>\n",
       "<table id=\"T_73b52\">\n",
       "  <thead>\n",
       "    <tr>\n",
       "      <th class=\"blank level0\" >&nbsp;</th>\n",
       "      <th id=\"T_73b52_level0_col0\" class=\"col_heading level0 col0\" >Description</th>\n",
       "      <th id=\"T_73b52_level0_col1\" class=\"col_heading level0 col1\" >Value</th>\n",
       "    </tr>\n",
       "  </thead>\n",
       "  <tbody>\n",
       "    <tr>\n",
       "      <th id=\"T_73b52_level0_row0\" class=\"row_heading level0 row0\" >0</th>\n",
       "      <td id=\"T_73b52_row0_col0\" class=\"data row0 col0\" >Session id</td>\n",
       "      <td id=\"T_73b52_row0_col1\" class=\"data row0 col1\" >123</td>\n",
       "    </tr>\n",
       "    <tr>\n",
       "      <th id=\"T_73b52_level0_row1\" class=\"row_heading level0 row1\" >1</th>\n",
       "      <td id=\"T_73b52_row1_col0\" class=\"data row1 col0\" >Original data shape</td>\n",
       "      <td id=\"T_73b52_row1_col1\" class=\"data row1 col1\" >(150, 6)</td>\n",
       "    </tr>\n",
       "    <tr>\n",
       "      <th id=\"T_73b52_level0_row2\" class=\"row_heading level0 row2\" >2</th>\n",
       "      <td id=\"T_73b52_row2_col0\" class=\"data row2 col0\" >Transformed data shape</td>\n",
       "      <td id=\"T_73b52_row2_col1\" class=\"data row2 col1\" >(150, 8)</td>\n",
       "    </tr>\n",
       "    <tr>\n",
       "      <th id=\"T_73b52_level0_row3\" class=\"row_heading level0 row3\" >3</th>\n",
       "      <td id=\"T_73b52_row3_col0\" class=\"data row3 col0\" >Numeric features</td>\n",
       "      <td id=\"T_73b52_row3_col1\" class=\"data row3 col1\" >5</td>\n",
       "    </tr>\n",
       "    <tr>\n",
       "      <th id=\"T_73b52_level0_row4\" class=\"row_heading level0 row4\" >4</th>\n",
       "      <td id=\"T_73b52_row4_col0\" class=\"data row4 col0\" >Categorical features</td>\n",
       "      <td id=\"T_73b52_row4_col1\" class=\"data row4 col1\" >1</td>\n",
       "    </tr>\n",
       "    <tr>\n",
       "      <th id=\"T_73b52_level0_row5\" class=\"row_heading level0 row5\" >5</th>\n",
       "      <td id=\"T_73b52_row5_col0\" class=\"data row5 col0\" >Preprocess</td>\n",
       "      <td id=\"T_73b52_row5_col1\" class=\"data row5 col1\" >True</td>\n",
       "    </tr>\n",
       "    <tr>\n",
       "      <th id=\"T_73b52_level0_row6\" class=\"row_heading level0 row6\" >6</th>\n",
       "      <td id=\"T_73b52_row6_col0\" class=\"data row6 col0\" >Imputation type</td>\n",
       "      <td id=\"T_73b52_row6_col1\" class=\"data row6 col1\" >simple</td>\n",
       "    </tr>\n",
       "    <tr>\n",
       "      <th id=\"T_73b52_level0_row7\" class=\"row_heading level0 row7\" >7</th>\n",
       "      <td id=\"T_73b52_row7_col0\" class=\"data row7 col0\" >Numeric imputation</td>\n",
       "      <td id=\"T_73b52_row7_col1\" class=\"data row7 col1\" >mean</td>\n",
       "    </tr>\n",
       "    <tr>\n",
       "      <th id=\"T_73b52_level0_row8\" class=\"row_heading level0 row8\" >8</th>\n",
       "      <td id=\"T_73b52_row8_col0\" class=\"data row8 col0\" >Categorical imputation</td>\n",
       "      <td id=\"T_73b52_row8_col1\" class=\"data row8 col1\" >mode</td>\n",
       "    </tr>\n",
       "    <tr>\n",
       "      <th id=\"T_73b52_level0_row9\" class=\"row_heading level0 row9\" >9</th>\n",
       "      <td id=\"T_73b52_row9_col0\" class=\"data row9 col0\" >Maximum one-hot encoding</td>\n",
       "      <td id=\"T_73b52_row9_col1\" class=\"data row9 col1\" >-1</td>\n",
       "    </tr>\n",
       "    <tr>\n",
       "      <th id=\"T_73b52_level0_row10\" class=\"row_heading level0 row10\" >10</th>\n",
       "      <td id=\"T_73b52_row10_col0\" class=\"data row10 col0\" >Encoding method</td>\n",
       "      <td id=\"T_73b52_row10_col1\" class=\"data row10 col1\" >None</td>\n",
       "    </tr>\n",
       "    <tr>\n",
       "      <th id=\"T_73b52_level0_row11\" class=\"row_heading level0 row11\" >11</th>\n",
       "      <td id=\"T_73b52_row11_col0\" class=\"data row11 col0\" >Normalize</td>\n",
       "      <td id=\"T_73b52_row11_col1\" class=\"data row11 col1\" >True</td>\n",
       "    </tr>\n",
       "    <tr>\n",
       "      <th id=\"T_73b52_level0_row12\" class=\"row_heading level0 row12\" >12</th>\n",
       "      <td id=\"T_73b52_row12_col0\" class=\"data row12 col0\" >Normalize method</td>\n",
       "      <td id=\"T_73b52_row12_col1\" class=\"data row12 col1\" >zscore</td>\n",
       "    </tr>\n",
       "    <tr>\n",
       "      <th id=\"T_73b52_level0_row13\" class=\"row_heading level0 row13\" >13</th>\n",
       "      <td id=\"T_73b52_row13_col0\" class=\"data row13 col0\" >CPU Jobs</td>\n",
       "      <td id=\"T_73b52_row13_col1\" class=\"data row13 col1\" >-1</td>\n",
       "    </tr>\n",
       "    <tr>\n",
       "      <th id=\"T_73b52_level0_row14\" class=\"row_heading level0 row14\" >14</th>\n",
       "      <td id=\"T_73b52_row14_col0\" class=\"data row14 col0\" >Use GPU</td>\n",
       "      <td id=\"T_73b52_row14_col1\" class=\"data row14 col1\" >False</td>\n",
       "    </tr>\n",
       "    <tr>\n",
       "      <th id=\"T_73b52_level0_row15\" class=\"row_heading level0 row15\" >15</th>\n",
       "      <td id=\"T_73b52_row15_col0\" class=\"data row15 col0\" >Log Experiment</td>\n",
       "      <td id=\"T_73b52_row15_col1\" class=\"data row15 col1\" >False</td>\n",
       "    </tr>\n",
       "    <tr>\n",
       "      <th id=\"T_73b52_level0_row16\" class=\"row_heading level0 row16\" >16</th>\n",
       "      <td id=\"T_73b52_row16_col0\" class=\"data row16 col0\" >Experiment Name</td>\n",
       "      <td id=\"T_73b52_row16_col1\" class=\"data row16 col1\" >anomaly-default-name</td>\n",
       "    </tr>\n",
       "    <tr>\n",
       "      <th id=\"T_73b52_level0_row17\" class=\"row_heading level0 row17\" >17</th>\n",
       "      <td id=\"T_73b52_row17_col0\" class=\"data row17 col0\" >USI</td>\n",
       "      <td id=\"T_73b52_row17_col1\" class=\"data row17 col1\" >54c6</td>\n",
       "    </tr>\n",
       "  </tbody>\n",
       "</table>\n"
      ],
      "text/plain": [
       "<pandas.io.formats.style.Styler at 0x24621ce6dc0>"
      ]
     },
     "metadata": {},
     "output_type": "display_data"
    },
    {
     "data": {
      "text/html": [],
      "text/plain": [
       "<IPython.core.display.HTML object>"
      ]
     },
     "metadata": {},
     "output_type": "display_data"
    },
    {
     "data": {
      "text/html": [],
      "text/plain": [
       "<IPython.core.display.HTML object>"
      ]
     },
     "metadata": {},
     "output_type": "display_data"
    },
    {
     "data": {
      "text/html": [],
      "text/plain": [
       "<IPython.core.display.HTML object>"
      ]
     },
     "metadata": {},
     "output_type": "display_data"
    },
    {
     "name": "stdout",
     "output_type": "stream",
     "text": [
      "      id           class  petallength  petalwidth  sepallength  sepalwidth  \\\n",
      "0      1     Iris-setosa          1.4         0.2          5.1         3.5   \n",
      "1      2     Iris-setosa          1.4         0.2          4.9         3.0   \n",
      "2      3     Iris-setosa          1.3         0.2          4.7         3.2   \n",
      "3      4     Iris-setosa          1.5         0.2          4.6         3.1   \n",
      "4      5     Iris-setosa          1.4         0.2          5.0         3.6   \n",
      "..   ...             ...          ...         ...          ...         ...   \n",
      "145  146  Iris-virginica          5.2         2.3          6.7         3.0   \n",
      "146  147  Iris-virginica          5.0         1.9          6.3         2.5   \n",
      "147  148  Iris-virginica          5.2         2.0          6.5         3.0   \n",
      "148  149  Iris-virginica          5.4         2.3          6.2         3.4   \n",
      "149  150  Iris-virginica          5.1         1.8          5.9         3.0   \n",
      "\n",
      "     Anomaly  Anomaly_Score  \n",
      "0          0       0.634739  \n",
      "1          0       0.578645  \n",
      "2          0       0.548796  \n",
      "3          0       0.538036  \n",
      "4          0       0.557574  \n",
      "..       ...            ...  \n",
      "145        0       0.624064  \n",
      "146        0       0.922962  \n",
      "147        0       0.683162  \n",
      "148        0       0.925730  \n",
      "149        0       0.776561  \n",
      "\n",
      "[142 rows x 8 columns]\n"
     ]
    }
   ],
   "source": [
    "import pandas as pd\n",
    "from pycaret.anomaly import *\n",
    "\n",
    "# Load dataset\n",
    "dataset = pd.read_csv(\"data_gabungan_iris.csv\")\n",
    "data = dataset.copy()\n",
    "\n",
    "# Setup PyCaret\n",
    "knn_data = setup(data, session_id=123, normalize=True)\n",
    "\n",
    "# Buat model KNN\n",
    "knn = create_model('knn')\n",
    "\n",
    "# Assign model ke dataset\n",
    "knn_predictions = assign_model(knn)\n",
    "\n",
    "# Cari index data outlier\n",
    "data_anomaly_knn = knn_predictions[knn_predictions['Anomaly'] == 1].index\n",
    "\n",
    "# Hapus data outlier\n",
    "clean_data_knn = knn_predictions.drop(index=data_anomaly_knn)\n",
    "print(clean_data_knn)\n"
   ]
  },
  {
   "cell_type": "markdown",
   "id": "f1d8d5f9",
   "metadata": {},
   "source": [
    "Penjelasan Code:\n",
    "- Import library → pandas, pycaret.anomaly.\n",
    "- Copy dataset → data = dataset.copy().\n",
    "- Setup data dengan setup().\n",
    "- Buat model knn dengan create_model().\n",
    "- Assign model ke dataset → assign_model(knn).\n",
    "- Ambil index data outlier (Anomaly == 1).\n",
    "- Drop outlier → dapat dataset bersih clean_data_knn"
   ]
  },
  {
   "cell_type": "code",
   "execution_count": null,
   "id": "72b65c99",
   "metadata": {},
   "outputs": [],
   "source": [
    "import pandas as pd\n",
    "from pycaret.anomaly import *\n",
    "\n",
    "data = dataset.copy()\n",
    "\n",
    "knn_data = setup(data, session_id=123)\n",
    "knn = create_model('knn')\n",
    "knn_predictions = assign_model(knn)\n",
    "\n",
    "#mencari index data outlier\n",
    "data_anomaly = knn_predictions[knn_predictions['Anomaly'] == 1].index\n",
    "\n",
    "#menghapus data outlier\n",
    "clean_data_outlier = knn_predictions.drop(index=data_anomaly)\n",
    "clean_data_outlier"
   ]
  },
  {
   "cell_type": "markdown",
   "id": "ed800e6c",
   "metadata": {},
   "source": [
    "![Screenshot](images/204806.png)  \n",
    "\n",
    "Berdasarkan tabel di atas sisa data yang berhasil dibersihkan dari outlier yakni sebanyak 142 data."
   ]
  },
  {
   "cell_type": "code",
   "execution_count": 25,
   "id": "0cbf260b",
   "metadata": {},
   "outputs": [
    {
     "data": {
      "text/html": [],
      "text/plain": [
       "<IPython.core.display.HTML object>"
      ]
     },
     "metadata": {},
     "output_type": "display_data"
    },
    {
     "data": {
      "text/html": [],
      "text/plain": [
       "<IPython.core.display.HTML object>"
      ]
     },
     "metadata": {},
     "output_type": "display_data"
    },
    {
     "data": {
      "text/html": [],
      "text/plain": [
       "<IPython.core.display.HTML object>"
      ]
     },
     "metadata": {},
     "output_type": "display_data"
    },
    {
     "name": "stdout",
     "output_type": "stream",
     "text": [
      "Data asli (KNN):  (150, 8)\n",
      "Data setelah hapus outlier (KNN):  (142, 8)\n"
     ]
    },
    {
     "data": {
      "image/png": "[encoded data removed]",
      "text/plain": [
       "<Figure size 1400x600 with 2 Axes>"
      ]
     },
     "metadata": {},
     "output_type": "display_data"
    }
   ],
   "source": [
    "import pandas as pd\n",
    "from pycaret.anomaly import * \n",
    "import matplotlib.pyplot as plt\n",
    "\n",
    "# Load data\n",
    "dataset = pd.read_csv(\"data_gabungan_iris.csv\")\n",
    "data = dataset.copy()\n",
    "\n",
    "# Model KNN\n",
    "knn = create_model('knn')\n",
    "results_knn = assign_model(knn)\n",
    "\n",
    "# Data tanpa outlier\n",
    "cleaned_knn = results_knn[results_knn[\"Anomaly\"] == 0].copy()\n",
    "\n",
    "print(\"Data asli (KNN): \", results_knn.shape)\n",
    "print(\"Data setelah hapus outlier (KNN): \", cleaned_knn.shape)\n",
    "\n",
    "# Visualisasi\n",
    "fig, axes = plt.subplots(1, 2, figsize=(14,6))\n",
    "\n",
    "# Sebelum hapus outlier\n",
    "axes[0].scatter(\n",
    "    results_knn['sepallength'], results_knn['sepalwidth'],\n",
    "    c=results_knn['Anomaly'], cmap='coolwarm', edgecolor='k'\n",
    ")\n",
    "axes[0].set_title(\"Sebelum Hapus Outlier (KNN)\")\n",
    "axes[0].set_xlabel(\"Sepal Length\")\n",
    "axes[0].set_ylabel(\"Sepal Width\")\n",
    "\n",
    "# Sesudah hapus outlier\n",
    "axes[1].scatter(\n",
    "    cleaned_knn['sepallength'], cleaned_knn['sepalwidth'],\n",
    "    c='blue', edgecolor='k'\n",
    ")\n",
    "axes[1].set_title(\"Sesudah Hapus Outlier (KNN)\")\n",
    "axes[1].set_xlabel(\"Sepal Length\")\n",
    "axes[1].set_ylabel(\"Sepal Width\")\n",
    "\n",
    "# Legend\n",
    "handles = [\n",
    "    plt.Line2D([0], [0], marker='o', color='w', label='Normal',\n",
    "               markerfacecolor='blue', markersize=8),\n",
    "    plt.Line2D([0], [0], marker='o', color='w', label='Outlier',\n",
    "               markerfacecolor='red', markersize=8)\n",
    "]\n",
    "plt.legend(handles=handles)\n",
    "\n",
    "plt.tight_layout()\n",
    "plt.show()\n"
   ]
  },
  {
   "cell_type": "markdown",
   "id": "551b0930",
   "metadata": {},
   "source": [
    "### Remove Data Outlier Hasil dari Metode LOF  "
   ]
  },
  {
   "cell_type": "code",
   "execution_count": 27,
   "id": "bf245ca8",
   "metadata": {},
   "outputs": [
    {
     "data": {
      "text/html": [
       "<style type=\"text/css\">\n",
       "#T_3366c_row5_col1, #T_3366c_row11_col1 {\n",
       "  background-color: lightgreen;\n",
       "}\n",
       "</style>\n",
       "<table id=\"T_3366c\">\n",
       "  <thead>\n",
       "    <tr>\n",
       "      <th class=\"blank level0\" >&nbsp;</th>\n",
       "      <th id=\"T_3366c_level0_col0\" class=\"col_heading level0 col0\" >Description</th>\n",
       "      <th id=\"T_3366c_level0_col1\" class=\"col_heading level0 col1\" >Value</th>\n",
       "    </tr>\n",
       "  </thead>\n",
       "  <tbody>\n",
       "    <tr>\n",
       "      <th id=\"T_3366c_level0_row0\" class=\"row_heading level0 row0\" >0</th>\n",
       "      <td id=\"T_3366c_row0_col0\" class=\"data row0 col0\" >Session id</td>\n",
       "      <td id=\"T_3366c_row0_col1\" class=\"data row0 col1\" >123</td>\n",
       "    </tr>\n",
       "    <tr>\n",
       "      <th id=\"T_3366c_level0_row1\" class=\"row_heading level0 row1\" >1</th>\n",
       "      <td id=\"T_3366c_row1_col0\" class=\"data row1 col0\" >Original data shape</td>\n",
       "      <td id=\"T_3366c_row1_col1\" class=\"data row1 col1\" >(150, 6)</td>\n",
       "    </tr>\n",
       "    <tr>\n",
       "      <th id=\"T_3366c_level0_row2\" class=\"row_heading level0 row2\" >2</th>\n",
       "      <td id=\"T_3366c_row2_col0\" class=\"data row2 col0\" >Transformed data shape</td>\n",
       "      <td id=\"T_3366c_row2_col1\" class=\"data row2 col1\" >(150, 8)</td>\n",
       "    </tr>\n",
       "    <tr>\n",
       "      <th id=\"T_3366c_level0_row3\" class=\"row_heading level0 row3\" >3</th>\n",
       "      <td id=\"T_3366c_row3_col0\" class=\"data row3 col0\" >Numeric features</td>\n",
       "      <td id=\"T_3366c_row3_col1\" class=\"data row3 col1\" >5</td>\n",
       "    </tr>\n",
       "    <tr>\n",
       "      <th id=\"T_3366c_level0_row4\" class=\"row_heading level0 row4\" >4</th>\n",
       "      <td id=\"T_3366c_row4_col0\" class=\"data row4 col0\" >Categorical features</td>\n",
       "      <td id=\"T_3366c_row4_col1\" class=\"data row4 col1\" >1</td>\n",
       "    </tr>\n",
       "    <tr>\n",
       "      <th id=\"T_3366c_level0_row5\" class=\"row_heading level0 row5\" >5</th>\n",
       "      <td id=\"T_3366c_row5_col0\" class=\"data row5 col0\" >Preprocess</td>\n",
       "      <td id=\"T_3366c_row5_col1\" class=\"data row5 col1\" >True</td>\n",
       "    </tr>\n",
       "    <tr>\n",
       "      <th id=\"T_3366c_level0_row6\" class=\"row_heading level0 row6\" >6</th>\n",
       "      <td id=\"T_3366c_row6_col0\" class=\"data row6 col0\" >Imputation type</td>\n",
       "      <td id=\"T_3366c_row6_col1\" class=\"data row6 col1\" >simple</td>\n",
       "    </tr>\n",
       "    <tr>\n",
       "      <th id=\"T_3366c_level0_row7\" class=\"row_heading level0 row7\" >7</th>\n",
       "      <td id=\"T_3366c_row7_col0\" class=\"data row7 col0\" >Numeric imputation</td>\n",
       "      <td id=\"T_3366c_row7_col1\" class=\"data row7 col1\" >mean</td>\n",
       "    </tr>\n",
       "    <tr>\n",
       "      <th id=\"T_3366c_level0_row8\" class=\"row_heading level0 row8\" >8</th>\n",
       "      <td id=\"T_3366c_row8_col0\" class=\"data row8 col0\" >Categorical imputation</td>\n",
       "      <td id=\"T_3366c_row8_col1\" class=\"data row8 col1\" >mode</td>\n",
       "    </tr>\n",
       "    <tr>\n",
       "      <th id=\"T_3366c_level0_row9\" class=\"row_heading level0 row9\" >9</th>\n",
       "      <td id=\"T_3366c_row9_col0\" class=\"data row9 col0\" >Maximum one-hot encoding</td>\n",
       "      <td id=\"T_3366c_row9_col1\" class=\"data row9 col1\" >-1</td>\n",
       "    </tr>\n",
       "    <tr>\n",
       "      <th id=\"T_3366c_level0_row10\" class=\"row_heading level0 row10\" >10</th>\n",
       "      <td id=\"T_3366c_row10_col0\" class=\"data row10 col0\" >Encoding method</td>\n",
       "      <td id=\"T_3366c_row10_col1\" class=\"data row10 col1\" >None</td>\n",
       "    </tr>\n",
       "    <tr>\n",
       "      <th id=\"T_3366c_level0_row11\" class=\"row_heading level0 row11\" >11</th>\n",
       "      <td id=\"T_3366c_row11_col0\" class=\"data row11 col0\" >Normalize</td>\n",
       "      <td id=\"T_3366c_row11_col1\" class=\"data row11 col1\" >True</td>\n",
       "    </tr>\n",
       "    <tr>\n",
       "      <th id=\"T_3366c_level0_row12\" class=\"row_heading level0 row12\" >12</th>\n",
       "      <td id=\"T_3366c_row12_col0\" class=\"data row12 col0\" >Normalize method</td>\n",
       "      <td id=\"T_3366c_row12_col1\" class=\"data row12 col1\" >zscore</td>\n",
       "    </tr>\n",
       "    <tr>\n",
       "      <th id=\"T_3366c_level0_row13\" class=\"row_heading level0 row13\" >13</th>\n",
       "      <td id=\"T_3366c_row13_col0\" class=\"data row13 col0\" >CPU Jobs</td>\n",
       "      <td id=\"T_3366c_row13_col1\" class=\"data row13 col1\" >-1</td>\n",
       "    </tr>\n",
       "    <tr>\n",
       "      <th id=\"T_3366c_level0_row14\" class=\"row_heading level0 row14\" >14</th>\n",
       "      <td id=\"T_3366c_row14_col0\" class=\"data row14 col0\" >Use GPU</td>\n",
       "      <td id=\"T_3366c_row14_col1\" class=\"data row14 col1\" >False</td>\n",
       "    </tr>\n",
       "    <tr>\n",
       "      <th id=\"T_3366c_level0_row15\" class=\"row_heading level0 row15\" >15</th>\n",
       "      <td id=\"T_3366c_row15_col0\" class=\"data row15 col0\" >Log Experiment</td>\n",
       "      <td id=\"T_3366c_row15_col1\" class=\"data row15 col1\" >False</td>\n",
       "    </tr>\n",
       "    <tr>\n",
       "      <th id=\"T_3366c_level0_row16\" class=\"row_heading level0 row16\" >16</th>\n",
       "      <td id=\"T_3366c_row16_col0\" class=\"data row16 col0\" >Experiment Name</td>\n",
       "      <td id=\"T_3366c_row16_col1\" class=\"data row16 col1\" >anomaly-default-name</td>\n",
       "    </tr>\n",
       "    <tr>\n",
       "      <th id=\"T_3366c_level0_row17\" class=\"row_heading level0 row17\" >17</th>\n",
       "      <td id=\"T_3366c_row17_col0\" class=\"data row17 col0\" >USI</td>\n",
       "      <td id=\"T_3366c_row17_col1\" class=\"data row17 col1\" >6309</td>\n",
       "    </tr>\n",
       "  </tbody>\n",
       "</table>\n"
      ],
      "text/plain": [
       "<pandas.io.formats.style.Styler at 0x2461f2f47f0>"
      ]
     },
     "metadata": {},
     "output_type": "display_data"
    },
    {
     "data": {
      "text/html": [],
      "text/plain": [
       "<IPython.core.display.HTML object>"
      ]
     },
     "metadata": {},
     "output_type": "display_data"
    },
    {
     "data": {
      "text/html": [],
      "text/plain": [
       "<IPython.core.display.HTML object>"
      ]
     },
     "metadata": {},
     "output_type": "display_data"
    },
    {
     "data": {
      "text/html": [],
      "text/plain": [
       "<IPython.core.display.HTML object>"
      ]
     },
     "metadata": {},
     "output_type": "display_data"
    },
    {
     "name": "stdout",
     "output_type": "stream",
     "text": [
      "      id           class  petallength  petalwidth  sepallength  sepalwidth  \\\n",
      "0      1     Iris-setosa          1.4         0.2          5.1         3.5   \n",
      "1      2     Iris-setosa          1.4         0.2          4.9         3.0   \n",
      "2      3     Iris-setosa          1.3         0.2          4.7         3.2   \n",
      "3      4     Iris-setosa          1.5         0.2          4.6         3.1   \n",
      "4      5     Iris-setosa          1.4         0.2          5.0         3.6   \n",
      "..   ...             ...          ...         ...          ...         ...   \n",
      "145  146  Iris-virginica          5.2         2.3          6.7         3.0   \n",
      "146  147  Iris-virginica          5.0         1.9          6.3         2.5   \n",
      "147  148  Iris-virginica          5.2         2.0          6.5         3.0   \n",
      "148  149  Iris-virginica          5.4         2.3          6.2         3.4   \n",
      "149  150  Iris-virginica          5.1         1.8          5.9         3.0   \n",
      "\n",
      "     Anomaly  Anomaly_Score  \n",
      "0          0       0.989666  \n",
      "1          0       1.084554  \n",
      "2          0       1.018067  \n",
      "3          0       1.050109  \n",
      "4          0       1.005007  \n",
      "..       ...            ...  \n",
      "145        0       0.979912  \n",
      "146        0       1.073153  \n",
      "147        0       0.959389  \n",
      "148        0       1.075040  \n",
      "149        0       1.029706  \n",
      "\n",
      "[142 rows x 8 columns]\n"
     ]
    }
   ],
   "source": [
    "import pandas as pd\n",
    "from pycaret.anomaly import *\n",
    "\n",
    "dataset = pd.read_csv(\"data_gabungan_iris.csv\")\n",
    "data = dataset.copy()\n",
    "\n",
    "lof_data = setup(data, session_id=123, normalize=True)\n",
    "lof = create_model('lof')\n",
    "lof_predictions = assign_model(lof)\n",
    "\n",
    "#mencari index data outlier\n",
    "data_anomaly = lof_predictions[lof_predictions['Anomaly'] == 1].index\n",
    "\n",
    "#menghapus data outlier\n",
    "clean_data_outlier = lof_predictions.drop(index=data_anomaly)\n",
    "print(clean_data_outlier)"
   ]
  },
  {
   "cell_type": "markdown",
   "id": "6d0c0d53",
   "metadata": {},
   "source": [
    "Penjelasan Code:\n",
    "- Import library → pandas, pycaret.anomaly.\n",
    "- Copy dataset → data = dataset.copy().\n",
    "- Setup data dengan setup().\n",
    "- Buat model knn dengan create_model().\n",
    "- Assign model ke dataset → assign_model(knn).\n",
    "- Ambil index data outlier (Anomaly == 1).\n",
    "- Drop outlier → dapat dataset bersih clean_data_knn"
   ]
  },
  {
   "cell_type": "code",
   "execution_count": null,
   "id": "e5c61d8b",
   "metadata": {},
   "outputs": [],
   "source": [
    "import pandas as pd\n",
    "from pycaret.anomaly import *\n",
    "\n",
    "data = dataset.copy()\n",
    "\n",
    "lof_data = setup(data, session_id=123)\n",
    "lof = create_model('lof')\n",
    "lof_predictions = assign_model(lof)\n",
    "\n",
    "#mencari index data outlier\n",
    "data_anomaly = lof_predictions[lof_predictions['Anomaly'] == 1].index\n",
    "\n",
    "#menghapus data outlier\n",
    "clean_data_outlier = lof_predictions.drop(index=data_anomaly)\n",
    "clean_data_outlier"
   ]
  },
  {
   "cell_type": "markdown",
   "id": "bac12bf8",
   "metadata": {},
   "source": [
    "![Screenshot](images/205705.png)  \n",
    "\n",
    "Berdasarkan tabel di atas sisa data yang berhasil dibersihkan dari outlier yakni sebanyak 142 data."
   ]
  },
  {
   "cell_type": "code",
   "execution_count": 30,
   "id": "6d021c97",
   "metadata": {},
   "outputs": [
    {
     "data": {
      "text/html": [],
      "text/plain": [
       "<IPython.core.display.HTML object>"
      ]
     },
     "metadata": {},
     "output_type": "display_data"
    },
    {
     "data": {
      "text/html": [],
      "text/plain": [
       "<IPython.core.display.HTML object>"
      ]
     },
     "metadata": {},
     "output_type": "display_data"
    },
    {
     "data": {
      "text/html": [],
      "text/plain": [
       "<IPython.core.display.HTML object>"
      ]
     },
     "metadata": {},
     "output_type": "display_data"
    },
    {
     "name": "stdout",
     "output_type": "stream",
     "text": [
      "Data asli (LOF):  (150, 8)\n",
      "Data setelah hapus outlier (LOF):  (142, 8)\n"
     ]
    },
    {
     "data": {
      "image/png": "[encoded data removed]",
      "text/plain": [
       "<Figure size 1400x600 with 2 Axes>"
      ]
     },
     "metadata": {},
     "output_type": "display_data"
    }
   ],
   "source": [
    "import pandas as pd\n",
    "from pycaret.anomaly import * \n",
    "import matplotlib.pyplot as plt\n",
    "\n",
    "# Load data\n",
    "data = dataset.copy()\n",
    "\n",
    "# Model LOF\n",
    "lof = create_model('lof')\n",
    "results_lof = assign_model(lof)\n",
    "\n",
    "# Data tanpa outlier\n",
    "cleaned_lof = results_lof[results_lof[\"Anomaly\"] == 0].copy()\n",
    "\n",
    "print(\"Data asli (LOF): \", results_lof.shape)\n",
    "print(\"Data setelah hapus outlier (LOF): \", cleaned_lof.shape)\n",
    "\n",
    "# Visualisasi\n",
    "fig, axes = plt.subplots(1, 2, figsize=(14,6))\n",
    "\n",
    "# Sebelum hapus outlier\n",
    "axes[0].scatter(\n",
    "    results_lof['sepallength'], results_lof['sepalwidth'],\n",
    "    c=results_lof['Anomaly'], cmap='coolwarm', edgecolor='k'\n",
    ")\n",
    "axes[0].set_title(\"Sebelum Hapus Outlier (LOF)\")\n",
    "axes[0].set_xlabel(\"Sepal Length\")\n",
    "axes[0].set_ylabel(\"Sepal Width\")\n",
    "\n",
    "# Sesudah hapus outlier\n",
    "axes[1].scatter(\n",
    "    cleaned_lof['sepallength'], cleaned_lof['sepalwidth'],\n",
    "    c='blue', edgecolor='k'\n",
    ")\n",
    "axes[1].set_title(\"Sesudah Hapus Outlier (LOF)\")\n",
    "axes[1].set_xlabel(\"Sepal Length\")\n",
    "axes[1].set_ylabel(\"Sepal Width\")\n",
    "\n",
    "# Legend\n",
    "handles = [\n",
    "    plt.Line2D([0], [0], marker='o', color='w', label='Normal',\n",
    "               markerfacecolor='blue', markersize=8),\n",
    "    plt.Line2D([0], [0], marker='o', color='w', label='Outlier',\n",
    "               markerfacecolor='red', markersize=8)\n",
    "]\n",
    "plt.legend(handles=handles)\n",
    "\n",
    "plt.tight_layout()\n",
    "plt.show()\n"
   ]
  }
 ],
 "metadata": {
  "kernelspec": {
   "display_name": "Python 3",
   "language": "python",
   "name": "python3"
  },
  "language_info": {
   "codemirror_mode": {
    "name": "ipython",
    "version": 3
   },
   "file_extension": ".py",
   "mimetype": "text/x-python",
   "name": "python",
   "nbconvert_exporter": "python",
   "pygments_lexer": "ipython3",
   "version": "3.9.13"
  }
 },
 "nbformat": 4,
 "nbformat_minor": 5
}
