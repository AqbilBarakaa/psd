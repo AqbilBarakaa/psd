{
 "cells": [
  {
   "cell_type": "markdown",
   "id": "f4d4429d",
   "metadata": {},
   "source": [
    "# Bussiness Understanding  \n",
    "\n",
    "## Judul Dataset  \n",
    "\"Fetal Health Classification (Klasifikasi Kesehatan Janin)\"  \n",
    "\n",
    "## Menentukan Tujuan Bisnis\n",
    "Kehamilan merupakan salah satu fase penting dalam kehidupan manusia yang membutuhkan pemantauan ketat terhadap kondisi kesehatan janin. Salah satu cara pemantauan dilakukan melalui pemeriksaan **Cardiotocography (CTG)**, yaitu metode merekam detak jantung janin dan aktivitas rahim ibu. Namun, interpretasi data CTG secara manual membutuhkan waktu, tenaga, dan pengalaman tinggi dari tenaga medis.  \n",
    "\n",
    "Oleh karena itu, tujuan bisnis dari proyek ini adalah:\n",
    "- Mengembangkan sistem klasifikasi berbasis data CTG untuk **memprediksi kondisi kesehatan janin**.  \n",
    "- Membantu tenaga medis membedakan kondisi janin menjadi tiga kategori:  \n",
    "  - **Normal** → janin sehat, tidak membutuhkan intervensi.  \n",
    "  - **Suspect** → kondisi janin perlu pemantauan lebih lanjut.  \n",
    "  - **Pathological** → janin berisiko, membutuhkan penanganan segera.  \n",
    "- Mengurangi risiko keterlambatan diagnosis dan meningkatkan kualitas pelayanan medis.  \n",
    "\n",
    "## Membuat Rencana Proyek  \n",
    "Rencana proyek ini berfokus pada:\n",
    "- **Eksplorasi Data** untuk memahami karakteristik dataset Fetal Health.  \n",
    "- **Pengembangan Model Prediksi** yang mampu membedakan kondisi janin (Normal, Suspect, Pathological).  \n",
    "- **Evaluasi Akurasi Model** menggunakan metrik klasifikasi.  \n",
    "- **Penyusunan Rekomendasi** bagi tenaga medis berdasarkan hasil analisis.  \n",
    "\n",
    "## Menilai Situasi dan Kondisi  \n",
    "- **Ketersediaan Data:** dataset tersedia di Kaggle dengan total 2.126 baris data dan 21 fitur numerik hasil rekaman CTG.  \n",
    "- **Kondisi Teknis:** data sudah dalam bentuk numerik, sehingga mempermudah proses preprocessing dan modeling.  \n",
    "- **Kesempatan:** model dapat digunakan untuk mendukung keputusan medis, khususnya dalam diagnosis dini kondisi janin.  \n",
    "- **Keterbatasan:** data berasal dari satu sumber (single dataset), sehingga ada kemungkinan model kurang general untuk populasi berbeda.  \n",
    "- **Risiko:** interpretasi akhir tetap harus dilakukan oleh dokter; sistem ini hanya berfungsi sebagai alat bantu, bukan pengganti tenaga medis.  \n"
   ]
  }
 ],
 "metadata": {
  "language_info": {
   "name": "python"
  }
 },
 "nbformat": 4,
 "nbformat_minor": 5
}
