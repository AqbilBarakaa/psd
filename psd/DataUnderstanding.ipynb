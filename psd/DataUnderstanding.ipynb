{
 "cells": [
  {
   "cell_type": "markdown",
   "id": "a3439243",
   "metadata": {},
   "source": [
    "# Data Understanding  \n",
    "\n",
    "Tahapan ini berfokus pada pengenalan dan analisis awal terhadap dataset. Tujuannya adalah untuk memahami isi, kualitas, dan karakteristik data sebelum masuk ke tahap persiapan dan pemodelan.  \n",
    "\n",
    "## Mengumpulkan Data Awal  \n",
    "Dataset yang digunakan adalah **Fetal Health Classification Dataset** yang tersedia secara publik di Kaggle.  \n",
    "Dataset ini berisi hasil rekaman **Cardiotocography (CTG)** dari 2.126 sampel janin, dengan **21 fitur numerik** dan **1 target variabel** (`fetal_health`).  \n",
    "Target variabel memiliki tiga kelas:\n",
    "- 1 = Normal  \n",
    "- 2 = Suspect  \n",
    "- 3 = Pathological  \n",
    "\n",
    "## Mendeskripsikan Data  \n",
    "- Jumlah observasi: **2.126 baris**  \n",
    "- Jumlah fitur: **21 fitur numerik** + 1 target label  \n",
    "- Semua fitur bersifat **numerik kontinu**, contoh:  \n",
    "  - `baseline value` → detak jantung rata-rata janin  \n",
    "  - `accelerations` → percepatan detak jantung  \n",
    "  - `uterine_contractions` → kontraksi rahim  \n",
    "  - `prolongued_decelerations` → perlambatan detak jantung dalam waktu lama  \n",
    "  - `histogram_mode`, `histogram_mean`, `histogram_median`, dsb.  \n",
    "\n",
    "Target `fetal_health` merupakan variabel kategorikal dengan tiga kelas seperti dijelaskan di atas.  \n",
    "\n",
    "## Eksplorasi Data / Menyelidiki Data\n",
    "Langkah awal eksplorasi data mencakup:  \n",
    "- Melihat distribusi kelas target untuk mengetahui keseimbangan data.  \n",
    "- Menampilkan statistik deskriptif (mean, median, min, max, std) untuk semua fitur.  \n",
    "- Membuat visualisasi sederhana (histogram, boxplot, pairplot, atau heatmap korelasi) guna menemukan pola awal.  \n",
    "\n",
    "Contoh insight yang ingin dicari:  \n",
    "- Apakah ada fitur yang paling membedakan kondisi janin normal dan patologis?  \n",
    "- Bagaimana distribusi nilai fitur seperti `accelerations` atau `baseline value` di tiap kelas?  \n",
    "- Apakah ada hubungan kuat antar fitur (multikolinearitas)?  \n",
    "\n",
    "## Verifikasi Kualitas Data\n",
    "Beberapa langkah yang dilakukan untuk memverifikasi kualitas data:\n",
    "- **Missing Values** → dataset ini sudah bersih (tidak ada nilai kosong).  \n",
    "- **Outliers** → perlu dicek melalui boxplot karena beberapa fitur bisa memiliki nilai ekstrim.  \n",
    "- **Konsistensi Data** → semua fitur dalam skala numerik yang konsisten, tidak bercampur dengan teks.  \n",
    "- **Distribusi Data** → ada indikasi ketidakseimbangan kelas (Normal lebih dominan dibanding Suspect dan Pathological). Hal ini harus diperhatikan dalam tahap modeling.  "
   ]
  }
 ],
 "metadata": {
  "language_info": {
   "name": "python"
  }
 },
 "nbformat": 4,
 "nbformat_minor": 5
}
